{
 "cells": [
  {
   "cell_type": "code",
   "execution_count": 1,
   "id": "5a04592b-4c4b-4252-9a0c-2284a3797266",
   "metadata": {},
   "outputs": [],
   "source": [
    "import sys\n",
    "import numpy as np"
   ]
  },
  {
   "cell_type": "code",
   "execution_count": 2,
   "id": "e96636fd-b0a8-4f58-b478-eda991ed068e",
   "metadata": {},
   "outputs": [],
   "source": [
    "import pandas as pd"
   ]
  },
  {
   "cell_type": "code",
   "execution_count": 3,
   "id": "b0eac55a-0931-4c08-a46c-902a239c5b3d",
   "metadata": {},
   "outputs": [],
   "source": [
    "from pathlib import Path"
   ]
  },
  {
   "cell_type": "code",
   "execution_count": 4,
   "id": "facb172a-79ac-45dd-8617-8d1f1717692e",
   "metadata": {},
   "outputs": [],
   "source": [
    "in_path = Path(r\"C:\\Data Analyst\\Python\\Project\\sales_data.xlsx\")\n",
    "df = pd.read_excel(in_path)"
   ]
  },
  {
   "cell_type": "code",
   "execution_count": 5,
   "id": "9f880ba6-66f7-4707-9a14-cc3e073ec847",
   "metadata": {},
   "outputs": [
    {
     "data": {
      "text/plain": [
       "Index(['country', 'order_value_EUR', 'cost', 'date', 'category',\n",
       "       'customer_name', 'sales_manager', 'sales_rep', 'device_type',\n",
       "       'order_id'],\n",
       "      dtype='object')"
      ]
     },
     "execution_count": 5,
     "metadata": {},
     "output_type": "execute_result"
    }
   ],
   "source": [
    "df.columns"
   ]
  },
  {
   "cell_type": "code",
   "execution_count": 6,
   "id": "96719961-1d82-43c2-8174-b01adefc0b14",
   "metadata": {},
   "outputs": [
    {
     "data": {
      "text/html": [
       "<div>\n",
       "<style scoped>\n",
       "    .dataframe tbody tr th:only-of-type {\n",
       "        vertical-align: middle;\n",
       "    }\n",
       "\n",
       "    .dataframe tbody tr th {\n",
       "        vertical-align: top;\n",
       "    }\n",
       "\n",
       "    .dataframe thead th {\n",
       "        text-align: right;\n",
       "    }\n",
       "</style>\n",
       "<table border=\"1\" class=\"dataframe\">\n",
       "  <thead>\n",
       "    <tr style=\"text-align: right;\">\n",
       "      <th></th>\n",
       "      <th>country</th>\n",
       "      <th>order_value_EUR</th>\n",
       "      <th>cost</th>\n",
       "      <th>date</th>\n",
       "      <th>category</th>\n",
       "      <th>customer_name</th>\n",
       "      <th>sales_manager</th>\n",
       "      <th>sales_rep</th>\n",
       "      <th>device_type</th>\n",
       "      <th>order_id</th>\n",
       "    </tr>\n",
       "  </thead>\n",
       "  <tbody>\n",
       "    <tr>\n",
       "      <th>0</th>\n",
       "      <td>Sweden</td>\n",
       "      <td>98320.37</td>\n",
       "      <td>77722.25</td>\n",
       "      <td>8/23/2020</td>\n",
       "      <td>Games</td>\n",
       "      <td>Konopelski LLC</td>\n",
       "      <td>Maxie Marrow</td>\n",
       "      <td>Tarrah Castelletti</td>\n",
       "      <td>Tablet</td>\n",
       "      <td>70-0511466</td>\n",
       "    </tr>\n",
       "    <tr>\n",
       "      <th>1</th>\n",
       "      <td>France</td>\n",
       "      <td>46296.26</td>\n",
       "      <td>40319.41</td>\n",
       "      <td>5/15/2020</td>\n",
       "      <td>Games</td>\n",
       "      <td>Wisoky Inc</td>\n",
       "      <td>Othello Bowes</td>\n",
       "      <td>Amelina Piscopiello</td>\n",
       "      <td>Tablet</td>\n",
       "      <td>77-3489084</td>\n",
       "    </tr>\n",
       "    <tr>\n",
       "      <th>2</th>\n",
       "      <td>Portugal</td>\n",
       "      <td>140337.34</td>\n",
       "      <td>115708.14</td>\n",
       "      <td>2020-04-09 00:00:00</td>\n",
       "      <td>Appliances</td>\n",
       "      <td>Hegmann Group</td>\n",
       "      <td>Celine Tumasian</td>\n",
       "      <td>Corene Shirer</td>\n",
       "      <td>PC</td>\n",
       "      <td>65-8218141</td>\n",
       "    </tr>\n",
       "    <tr>\n",
       "      <th>3</th>\n",
       "      <td>France</td>\n",
       "      <td>203604.46</td>\n",
       "      <td>175344.16</td>\n",
       "      <td>6/26/2019</td>\n",
       "      <td>Electronics</td>\n",
       "      <td>Kirlin and Sons</td>\n",
       "      <td>Othello Bowes</td>\n",
       "      <td>Crysta Halls</td>\n",
       "      <td>Mobile</td>\n",
       "      <td>29-5478106</td>\n",
       "    </tr>\n",
       "    <tr>\n",
       "      <th>4</th>\n",
       "      <td>UK</td>\n",
       "      <td>63979.04</td>\n",
       "      <td>56032.84</td>\n",
       "      <td>10/22/2019</td>\n",
       "      <td>Games</td>\n",
       "      <td>Schoen-Keeling</td>\n",
       "      <td>Jessamine Apark</td>\n",
       "      <td>Genevra Charrisson</td>\n",
       "      <td>PC</td>\n",
       "      <td>27-3437546</td>\n",
       "    </tr>\n",
       "  </tbody>\n",
       "</table>\n",
       "</div>"
      ],
      "text/plain": [
       "    country  order_value_EUR       cost                 date     category  \\\n",
       "0    Sweden         98320.37   77722.25            8/23/2020        Games   \n",
       "1    France         46296.26   40319.41            5/15/2020        Games   \n",
       "2  Portugal        140337.34  115708.14  2020-04-09 00:00:00   Appliances   \n",
       "3    France        203604.46  175344.16            6/26/2019  Electronics   \n",
       "4        UK         63979.04   56032.84           10/22/2019        Games   \n",
       "\n",
       "     customer_name    sales_manager            sales_rep device_type  \\\n",
       "0   Konopelski LLC     Maxie Marrow   Tarrah Castelletti      Tablet   \n",
       "1       Wisoky Inc    Othello Bowes  Amelina Piscopiello      Tablet   \n",
       "2    Hegmann Group  Celine Tumasian        Corene Shirer          PC   \n",
       "3  Kirlin and Sons    Othello Bowes         Crysta Halls      Mobile   \n",
       "4   Schoen-Keeling  Jessamine Apark   Genevra Charrisson          PC   \n",
       "\n",
       "     order_id  \n",
       "0  70-0511466  \n",
       "1  77-3489084  \n",
       "2  65-8218141  \n",
       "3  29-5478106  \n",
       "4  27-3437546  "
      ]
     },
     "execution_count": 6,
     "metadata": {},
     "output_type": "execute_result"
    }
   ],
   "source": [
    "df.head()"
   ]
  },
  {
   "cell_type": "code",
   "execution_count": 7,
   "id": "37d2bb6a-f068-467b-8700-e134bc28f817",
   "metadata": {},
   "outputs": [],
   "source": [
    "df.columns = (df.columns.str.strip().str.lower()\n",
    "              .str.replace(r\"[^0-9a-zA-Z_]\",\"_\",regex = True)\n",
    "              .str.replace(r\"__+\",\"_\",regex = True))"
   ]
  },
  {
   "cell_type": "code",
   "execution_count": 8,
   "id": "aeb32d98-73c3-424b-9474-e77aee7bc92b",
   "metadata": {},
   "outputs": [],
   "source": [
    "#strip spaces, fill device_type\n",
    "for c in df.select_dtypes(include=\"object\").columns:\n",
    "    df[c] = df[c].astype(str).str.strip()\n",
    "df[\"device_type\"] = df[\"device_type\"].replace([\"\",\"None\",\"nan\"],\n",
    "                                             np.nan).fillna(\"Unknown\")"
   ]
  },
  {
   "cell_type": "code",
   "execution_count": 9,
   "id": "8d48d330-1cbb-4742-98aa-878b9edc78c4",
   "metadata": {},
   "outputs": [
    {
     "name": "stdout",
     "output_type": "stream",
     "text": [
      "Index(['country', 'order_value_eur', 'cost', 'date', 'category',\n",
      "       'customer_name', 'sales_manager', 'sales_rep', 'device_type',\n",
      "       'order_id'],\n",
      "      dtype='object')\n"
     ]
    }
   ],
   "source": [
    "print(df.columns)"
   ]
  },
  {
   "cell_type": "code",
   "execution_count": 10,
   "id": "ac92c82e-d014-4f5a-a9e7-553a9d06b9d3",
   "metadata": {},
   "outputs": [],
   "source": [
    "#parse date + numerics\n",
    "df[\"date\"]=pd.to_datetime(df[\"date\"],errors=\"coerce\",\n",
    "                               dayfirst = False)\n",
    "df[\"order_value_eur\"] = pd.to_numeric(df[\"order_value_eur\"],\n",
    "                                      errors=\"coerce\")\n",
    "df[\"cost\"]=pd.to_numeric(df[\"cost\"].astype(str).\n",
    "                         str.replace(r\"[^0-9\\.-]\",\"\",\n",
    "                                     regex=True),errors=\"coerce\")"
   ]
  },
  {
   "cell_type": "code",
   "execution_count": 11,
   "id": "0d8eea48-6841-43a6-b2eb-a9fa6e2b2dd2",
   "metadata": {},
   "outputs": [],
   "source": [
    "#metrics\n",
    "df[\"profit_eur\"] = df[\"order_value_eur\"] - df[\"cost\"]\n",
    "df[\"profit_margin\"] = np.where(df[\"order_value_eur\"]>0,\n",
    "                              df[\"profit_eur\"]/df[\"order_value_eur\"]\n",
    "                               ,np.nan)"
   ]
  },
  {
   "cell_type": "code",
   "execution_count": 12,
   "id": "15b45fcc-edb7-4739-a286-8804fa9b15b2",
   "metadata": {},
   "outputs": [],
   "source": [
    "#reduplicate by order_id(keep last)\n",
    "df = df.drop_duplicates(subset=[\"order_id\"],keep='last')"
   ]
  },
  {
   "cell_type": "code",
   "execution_count": 13,
   "id": "1ea18cbd-762c-4506-aa87-cb021d7b3335",
   "metadata": {},
   "outputs": [
    {
     "name": "stdout",
     "output_type": "stream",
     "text": [
      "Done\n"
     ]
    }
   ],
   "source": [
    "#export\n",
    "df.to_excel(\"sales_clean_full.xlsx\",index=False)\n",
    "fact = df.dropna(subset = [\"order_value_eur\",\"cost\"])[\n",
    "[\"order_id\",\"date\",\"country\",\"category\",\"customer_name\",\n",
    " \"sales_manager\",\"sales_rep\",\"device_type\",\"order_value_eur\",\n",
    " \"cost\",\"profit_eur\",\"profit_margin\"]\n",
    "]\n",
    "fact.to_csv(\"sales_fact_clean.csv\",index=False)\n",
    "print(\"Done\")"
   ]
  },
  {
   "cell_type": "code",
   "execution_count": 14,
   "id": "ba6b2ab1-166e-4c73-b910-b0d3562e5494",
   "metadata": {},
   "outputs": [
    {
     "data": {
      "text/html": [
       "<div>\n",
       "<style scoped>\n",
       "    .dataframe tbody tr th:only-of-type {\n",
       "        vertical-align: middle;\n",
       "    }\n",
       "\n",
       "    .dataframe tbody tr th {\n",
       "        vertical-align: top;\n",
       "    }\n",
       "\n",
       "    .dataframe thead th {\n",
       "        text-align: right;\n",
       "    }\n",
       "</style>\n",
       "<table border=\"1\" class=\"dataframe\">\n",
       "  <thead>\n",
       "    <tr style=\"text-align: right;\">\n",
       "      <th></th>\n",
       "      <th>country</th>\n",
       "      <th>order_value_eur</th>\n",
       "      <th>cost</th>\n",
       "      <th>date</th>\n",
       "      <th>category</th>\n",
       "      <th>customer_name</th>\n",
       "      <th>sales_manager</th>\n",
       "      <th>sales_rep</th>\n",
       "      <th>device_type</th>\n",
       "      <th>order_id</th>\n",
       "      <th>profit_eur</th>\n",
       "      <th>profit_margin</th>\n",
       "    </tr>\n",
       "  </thead>\n",
       "  <tbody>\n",
       "    <tr>\n",
       "      <th>0</th>\n",
       "      <td>Sweden</td>\n",
       "      <td>98320.37</td>\n",
       "      <td>77722.25</td>\n",
       "      <td>2020-08-23</td>\n",
       "      <td>Games</td>\n",
       "      <td>Konopelski LLC</td>\n",
       "      <td>Maxie Marrow</td>\n",
       "      <td>Tarrah Castelletti</td>\n",
       "      <td>Tablet</td>\n",
       "      <td>70-0511466</td>\n",
       "      <td>20598.12</td>\n",
       "      <td>0.2095</td>\n",
       "    </tr>\n",
       "    <tr>\n",
       "      <th>1</th>\n",
       "      <td>France</td>\n",
       "      <td>46296.26</td>\n",
       "      <td>40319.41</td>\n",
       "      <td>2020-05-15</td>\n",
       "      <td>Games</td>\n",
       "      <td>Wisoky Inc</td>\n",
       "      <td>Othello Bowes</td>\n",
       "      <td>Amelina Piscopiello</td>\n",
       "      <td>Tablet</td>\n",
       "      <td>77-3489084</td>\n",
       "      <td>5976.85</td>\n",
       "      <td>0.1291</td>\n",
       "    </tr>\n",
       "    <tr>\n",
       "      <th>2</th>\n",
       "      <td>Portugal</td>\n",
       "      <td>140337.34</td>\n",
       "      <td>115708.14</td>\n",
       "      <td>NaT</td>\n",
       "      <td>Appliances</td>\n",
       "      <td>Hegmann Group</td>\n",
       "      <td>Celine Tumasian</td>\n",
       "      <td>Corene Shirer</td>\n",
       "      <td>PC</td>\n",
       "      <td>65-8218141</td>\n",
       "      <td>24629.20</td>\n",
       "      <td>0.1755</td>\n",
       "    </tr>\n",
       "    <tr>\n",
       "      <th>3</th>\n",
       "      <td>France</td>\n",
       "      <td>203604.46</td>\n",
       "      <td>175344.16</td>\n",
       "      <td>2019-06-26</td>\n",
       "      <td>Electronics</td>\n",
       "      <td>Kirlin and Sons</td>\n",
       "      <td>Othello Bowes</td>\n",
       "      <td>Crysta Halls</td>\n",
       "      <td>Mobile</td>\n",
       "      <td>29-5478106</td>\n",
       "      <td>28260.30</td>\n",
       "      <td>0.1388</td>\n",
       "    </tr>\n",
       "    <tr>\n",
       "      <th>5</th>\n",
       "      <td>Italy</td>\n",
       "      <td>127075.41</td>\n",
       "      <td>110924.13</td>\n",
       "      <td>2019-09-24</td>\n",
       "      <td>Clothing</td>\n",
       "      <td>Labadie and Sons</td>\n",
       "      <td>Piggy Roscrigg</td>\n",
       "      <td>Joshua Prevost</td>\n",
       "      <td>PC</td>\n",
       "      <td>57-6602854</td>\n",
       "      <td>16151.28</td>\n",
       "      <td>0.1271</td>\n",
       "    </tr>\n",
       "  </tbody>\n",
       "</table>\n",
       "</div>"
      ],
      "text/plain": [
       "    country  order_value_eur       cost       date     category  \\\n",
       "0    Sweden         98320.37   77722.25 2020-08-23        Games   \n",
       "1    France         46296.26   40319.41 2020-05-15        Games   \n",
       "2  Portugal        140337.34  115708.14        NaT   Appliances   \n",
       "3    France        203604.46  175344.16 2019-06-26  Electronics   \n",
       "5     Italy        127075.41  110924.13 2019-09-24     Clothing   \n",
       "\n",
       "      customer_name    sales_manager            sales_rep device_type  \\\n",
       "0    Konopelski LLC     Maxie Marrow   Tarrah Castelletti      Tablet   \n",
       "1        Wisoky Inc    Othello Bowes  Amelina Piscopiello      Tablet   \n",
       "2     Hegmann Group  Celine Tumasian        Corene Shirer          PC   \n",
       "3   Kirlin and Sons    Othello Bowes         Crysta Halls      Mobile   \n",
       "5  Labadie and Sons   Piggy Roscrigg       Joshua Prevost          PC   \n",
       "\n",
       "     order_id  profit_eur  profit_margin  \n",
       "0  70-0511466    20598.12         0.2095  \n",
       "1  77-3489084     5976.85         0.1291  \n",
       "2  65-8218141    24629.20         0.1755  \n",
       "3  29-5478106    28260.30         0.1388  \n",
       "5  57-6602854    16151.28         0.1271  "
      ]
     },
     "execution_count": 14,
     "metadata": {},
     "output_type": "execute_result"
    }
   ],
   "source": [
    "df.head()"
   ]
  },
  {
   "cell_type": "code",
   "execution_count": 15,
   "id": "ffaee29f-6e34-4658-aaa5-9df71bb6c20d",
   "metadata": {},
   "outputs": [
    {
     "data": {
      "text/plain": [
       "Index(['country', 'order_value_eur', 'cost', 'date', 'category',\n",
       "       'customer_name', 'sales_manager', 'sales_rep', 'device_type',\n",
       "       'order_id', 'profit_eur', 'profit_margin'],\n",
       "      dtype='object')"
      ]
     },
     "execution_count": 15,
     "metadata": {},
     "output_type": "execute_result"
    }
   ],
   "source": [
    "df.columns"
   ]
  },
  {
   "cell_type": "code",
   "execution_count": 16,
   "id": "b96e97ab-3a41-486e-b446-3c5faf27902a",
   "metadata": {},
   "outputs": [
    {
     "data": {
      "text/html": [
       "<div>\n",
       "<style scoped>\n",
       "    .dataframe tbody tr th:only-of-type {\n",
       "        vertical-align: middle;\n",
       "    }\n",
       "\n",
       "    .dataframe tbody tr th {\n",
       "        vertical-align: top;\n",
       "    }\n",
       "\n",
       "    .dataframe thead th {\n",
       "        text-align: right;\n",
       "    }\n",
       "</style>\n",
       "<table border=\"1\" class=\"dataframe\">\n",
       "  <thead>\n",
       "    <tr style=\"text-align: right;\">\n",
       "      <th></th>\n",
       "      <th>country</th>\n",
       "      <th>order_value_eur</th>\n",
       "      <th>cost</th>\n",
       "      <th>date</th>\n",
       "      <th>category</th>\n",
       "      <th>customer_name</th>\n",
       "      <th>sales_manager</th>\n",
       "      <th>sales_rep</th>\n",
       "      <th>device_type</th>\n",
       "      <th>order_id</th>\n",
       "      <th>profit_eur</th>\n",
       "      <th>profit_margin</th>\n",
       "    </tr>\n",
       "  </thead>\n",
       "  <tbody>\n",
       "    <tr>\n",
       "      <th>0</th>\n",
       "      <td>Sweden</td>\n",
       "      <td>98320.37</td>\n",
       "      <td>77722.25</td>\n",
       "      <td>2020-08-23</td>\n",
       "      <td>Games</td>\n",
       "      <td>Konopelski LLC</td>\n",
       "      <td>Maxie Marrow</td>\n",
       "      <td>Tarrah Castelletti</td>\n",
       "      <td>Tablet</td>\n",
       "      <td>70-0511466</td>\n",
       "      <td>20598.12</td>\n",
       "      <td>0.2095</td>\n",
       "    </tr>\n",
       "    <tr>\n",
       "      <th>1</th>\n",
       "      <td>France</td>\n",
       "      <td>46296.26</td>\n",
       "      <td>40319.41</td>\n",
       "      <td>2020-05-15</td>\n",
       "      <td>Games</td>\n",
       "      <td>Wisoky Inc</td>\n",
       "      <td>Othello Bowes</td>\n",
       "      <td>Amelina Piscopiello</td>\n",
       "      <td>Tablet</td>\n",
       "      <td>77-3489084</td>\n",
       "      <td>5976.85</td>\n",
       "      <td>0.1291</td>\n",
       "    </tr>\n",
       "    <tr>\n",
       "      <th>2</th>\n",
       "      <td>Portugal</td>\n",
       "      <td>140337.34</td>\n",
       "      <td>115708.14</td>\n",
       "      <td>NaT</td>\n",
       "      <td>Appliances</td>\n",
       "      <td>Hegmann Group</td>\n",
       "      <td>Celine Tumasian</td>\n",
       "      <td>Corene Shirer</td>\n",
       "      <td>PC</td>\n",
       "      <td>65-8218141</td>\n",
       "      <td>24629.20</td>\n",
       "      <td>0.1755</td>\n",
       "    </tr>\n",
       "    <tr>\n",
       "      <th>3</th>\n",
       "      <td>France</td>\n",
       "      <td>203604.46</td>\n",
       "      <td>175344.16</td>\n",
       "      <td>2019-06-26</td>\n",
       "      <td>Electronics</td>\n",
       "      <td>Kirlin and Sons</td>\n",
       "      <td>Othello Bowes</td>\n",
       "      <td>Crysta Halls</td>\n",
       "      <td>Mobile</td>\n",
       "      <td>29-5478106</td>\n",
       "      <td>28260.30</td>\n",
       "      <td>0.1388</td>\n",
       "    </tr>\n",
       "    <tr>\n",
       "      <th>5</th>\n",
       "      <td>Italy</td>\n",
       "      <td>127075.41</td>\n",
       "      <td>110924.13</td>\n",
       "      <td>2019-09-24</td>\n",
       "      <td>Clothing</td>\n",
       "      <td>Labadie and Sons</td>\n",
       "      <td>Piggy Roscrigg</td>\n",
       "      <td>Joshua Prevost</td>\n",
       "      <td>PC</td>\n",
       "      <td>57-6602854</td>\n",
       "      <td>16151.28</td>\n",
       "      <td>0.1271</td>\n",
       "    </tr>\n",
       "  </tbody>\n",
       "</table>\n",
       "</div>"
      ],
      "text/plain": [
       "    country  order_value_eur       cost       date     category  \\\n",
       "0    Sweden         98320.37   77722.25 2020-08-23        Games   \n",
       "1    France         46296.26   40319.41 2020-05-15        Games   \n",
       "2  Portugal        140337.34  115708.14        NaT   Appliances   \n",
       "3    France        203604.46  175344.16 2019-06-26  Electronics   \n",
       "5     Italy        127075.41  110924.13 2019-09-24     Clothing   \n",
       "\n",
       "      customer_name    sales_manager            sales_rep device_type  \\\n",
       "0    Konopelski LLC     Maxie Marrow   Tarrah Castelletti      Tablet   \n",
       "1        Wisoky Inc    Othello Bowes  Amelina Piscopiello      Tablet   \n",
       "2     Hegmann Group  Celine Tumasian        Corene Shirer          PC   \n",
       "3   Kirlin and Sons    Othello Bowes         Crysta Halls      Mobile   \n",
       "5  Labadie and Sons   Piggy Roscrigg       Joshua Prevost          PC   \n",
       "\n",
       "     order_id  profit_eur  profit_margin  \n",
       "0  70-0511466    20598.12         0.2095  \n",
       "1  77-3489084     5976.85         0.1291  \n",
       "2  65-8218141    24629.20         0.1755  \n",
       "3  29-5478106    28260.30         0.1388  \n",
       "5  57-6602854    16151.28         0.1271  "
      ]
     },
     "execution_count": 16,
     "metadata": {},
     "output_type": "execute_result"
    }
   ],
   "source": [
    "df.head()"
   ]
  },
  {
   "cell_type": "code",
   "execution_count": null,
   "id": "e8d85632-4264-46a3-8fa9-226c811fe9a3",
   "metadata": {},
   "outputs": [],
   "source": []
  },
  {
   "cell_type": "code",
   "execution_count": null,
   "id": "874d568e-7444-41b5-8acd-8a4118a28aef",
   "metadata": {},
   "outputs": [],
   "source": []
  },
  {
   "cell_type": "code",
   "execution_count": null,
   "id": "55c4dfcb-f385-4abc-9b02-4fd2e84d2f97",
   "metadata": {},
   "outputs": [],
   "source": []
  },
  {
   "cell_type": "code",
   "execution_count": null,
   "id": "c4436a26-b064-46e3-a5f9-3da6e92ca365",
   "metadata": {},
   "outputs": [],
   "source": []
  },
  {
   "cell_type": "markdown",
   "id": "84144dce-3ed0-42e9-8dff-51b86ca08fc2",
   "metadata": {},
   "source": [
    "- 🔹 Step 1: Data Source (Excel → Python)\n",
    "- File: sales data.xlsx\n",
    "- Issue: messy (text in cost column, missing values, inconsistent dates).\n",
    "- Python Cleaning Script does:\n",
    "- Renames columns → snake_case (order_value_eur instead of order_value_EUR).\n",
    "- Converts date → proper datetime.\n",
    "- Converts order_value_eur & cost → numeric.\n",
    "- Adds new columns:\n",
    "- profit_eur = order_value_eur - cost\n",
    "- profit_margin = profit_eur / order_value_eur\n",
    "- Replaces missing device_type with \"Unknown\".\n",
    "- Drops duplicate order_id.\n",
    "- Output: sales_fact_clean.csv (clean dataset)."
   ]
  },
  {
   "cell_type": "markdown",
   "id": "88dab1b4-445c-4228-9f7e-f10f3462eab9",
   "metadata": {},
   "source": [
    "- 🔹 Step 2: Database (PostgreSQL)\n",
    "- PostgreSQL = database where cleaned data lives.\n",
    "- Why PostgreSQL?\n",
    "- Industry standard for analytics.\n",
    "- Handles large datasets better than Excel.\n",
    "- Can be queried directly by BI tools like Power BI.\n",
    "- DDL (Schema Creation)\n",
    "n NUMERIC\r\n",
    ");"
   ]
  },
  {
   "cell_type": "markdown",
   "id": "0aac3851-3696-40b4-8840-b62f00440750",
   "metadata": {},
   "source": [
    "- CREATE TABLE sales_orders (\n",
    "- order_id VARCHAR PRIMARY KEY\n",
    "- date DATE\n",
    "- country VARCHAR\n",
    "- category VARCHAR\n",
    "- customer_name VARCHAR\n",
    "- sales_manager VARCHAR\n",
    "- sales_rep VARCHAR\n",
    "- device_type VARCHAR\n",
    "- order_value_eur NUMERIC\n",
    "- cost NUMERIC\n",
    "- profit_eur NUMERIC\n",
    "- profit_margin NUMERIC\n",
    "- );\n",
    "- Loading Data\n",
    "- Use COPY command or pgAdmin to import sales_fact_clean.csv into sales_orders."
   ]
  },
  {
   "cell_type": "markdown",
   "id": "9b03e7c9-a496-43e8-8fcd-238292f99109",
   "metadata": {},
   "source": [
    "- 🔹 Step 3: SQL Queries for Analysis\n",
    "- \n",
    "-\n",
    "- Total Revenue & Profit\n",
    "- SELECT SUM(order_value_eur) AS total_revenue,\n",
    "- SUM(profit_eur) AS total_profit\n",
    "- FROM sales_orders;\n",
    "- \n",
    "- Revenue by Country\n",
    "- SELECT country, SUM(order_value_eur) AS revenue\n",
    "- FROM sales_orders\n",
    "- GROUP BY country\n",
    "- ORDER BY revenue DESC;\n",
    "- \n",
    "- \n",
    "- Monthly Revenue Trend\n",
    "- SELECT DATE_TRUNC('month', date) AS month,\n",
    "- SUM(order_value_eur) AS revenue\n",
    "- FROM sales_orders\n",
    "- GROUP BY month\n",
    "- ORDER BY month;\n",
    "- These queries validate insights before visualization.\n"
   ]
  },
  {
   "cell_type": "markdown",
   "id": "0021a00f-b9eb-4c99-ace9-c59d81a0c83e",
   "metadata": {},
   "source": [
    "- Step 4: Power BI Dashboard\n",
    "- Connect Power BI → PostgreSQL (sales_orders).\n",
    "- Build visuals:\n",
    "- Cards → Total Revenue, Profit, Avg Margin.\n",
    "- Line Chart → Monthly Revenue.\n",
    "- Bar Chart → Revenue by Country.\n",
    "- Pie Chart → Revenue Share by Category.\n",
    "- Table → Detailed order info.\n",
    "- Slicers → Date, Country, Device Type."
   ]
  },
  {
   "cell_type": "markdown",
   "id": "f7b0b8be-a861-48bd-a31e-c92fdfad0c87",
   "metadata": {},
   "source": [
    "- 🔹 Step 5: Deliverables\n",
    "- Python script (clean_sales_data.py) → reproducible ETL.\n",
    "- PostgreSQL schema & queries (sales_orders.sql).\n",
    "- Power BI dashboard (sales_dashboard.pbix).\n",
    "- Documentation (README.md) → explains workflow & insights"
   ]
  },
  {
   "cell_type": "markdown",
   "id": "17c54811-7b88-4bc7-b5a1-1337c3c8176f",
   "metadata": {},
   "source": [
    "- Story-Like Explanation (Interview Style)\n",
    "- 👉 Imagine you’re explaining this to an interviewer:\n",
    "\"Our company had sales data sitting in Excel, but it was messy and hard to analyze. My goal was to build an end-to-end pipeline that transforms this - data into business insights.\n",
    "\n",
    "First, I wrote a Python script to clean the Excel file. For example, the cost column was stored as text, dates weren’t properly formatted, and some device types were missing. I standardized everything, created new fields like Profit and Profit Margin, and exported a clean dataset.\n",
    "\n",
    "Next, I loaded this data into PostgreSQL. I designed a proper schema (sales_orders) with numeric and date types. Now our data was in a central, structured database instead of a flat Excel file.\n",
    "\n",
    "Using SQL queries, I validated key insights: total revenue, monthly revenue trends, revenue by country, and profit margins by product category. This gave me confidence the data was ready for visualization.\n",
    "\n",
    "Finally, I connected Power BI directly to PostgreSQL and built an interactive dashboard. It has high-level KPIs (Revenue, Profit, Margin), trend charts (Monthly Revenue), comparison charts (Revenue by Country, Category Share), and filters (Date, Device Type, Country). Managers can now slice the data however they want, in real time.\n",
    "\n",
    "This project demonstrates a complete workflow: ETL with Python → Data Storage in PostgreSQL → Analysis with SQL → Visualization with Power BI. It’s a real-world setup used in modern data teams, and it converts raw messy data into clear business decisions.\""
   ]
  }
 ],
 "metadata": {
  "kernelspec": {
   "display_name": "Python 3 (ipykernel)",
   "language": "python",
   "name": "python3"
  },
  "language_info": {
   "codemirror_mode": {
    "name": "ipython",
    "version": 3
   },
   "file_extension": ".py",
   "mimetype": "text/x-python",
   "name": "python",
   "nbconvert_exporter": "python",
   "pygments_lexer": "ipython3",
   "version": "3.11.5"
  }
 },
 "nbformat": 4,
 "nbformat_minor": 5
}
